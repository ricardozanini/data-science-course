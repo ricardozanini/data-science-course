{
 "cells": [
  {
   "cell_type": "markdown",
   "metadata": {},
   "source": [
    "Operações com Matrizes"
   ]
  },
  {
   "cell_type": "code",
   "execution_count": 1,
   "metadata": {},
   "outputs": [],
   "source": [
    "import numpy as np"
   ]
  },
  {
   "cell_type": "code",
   "execution_count": 5,
   "metadata": {},
   "outputs": [
    {
     "data": {
      "text/plain": [
       "(array([[1, 2],\n",
       "        [2, 3]]),\n",
       " array([[5, 7],\n",
       "        [0, 1]]))"
      ]
     },
     "execution_count": 5,
     "metadata": {},
     "output_type": "execute_result"
    }
   ],
   "source": [
    "#Soma de Matrizes. Sendo matrizes de mesmas dimensões, a soma é dada pela soma elemento a elemento\n",
    "#Assim se C=A+B, para cada elemento C(i,j)=A(i,j)+B(i,j)\n",
    "A=np.array([[1,2],[2,3]])\n",
    "B=np.array([[5,7],[0,1]])\n",
    "C=np.zeros((2,2))\n",
    "A,B"
   ]
  },
  {
   "cell_type": "code",
   "execution_count": 4,
   "metadata": {},
   "outputs": [
    {
     "data": {
      "text/plain": [
       "True"
      ]
     },
     "execution_count": 4,
     "metadata": {},
     "output_type": "execute_result"
    }
   ],
   "source": [
    "#Obtenha C=A+B\n",
    "A.shape==B.shape"
   ]
  },
  {
   "cell_type": "code",
   "execution_count": 6,
   "metadata": {},
   "outputs": [
    {
     "data": {
      "text/plain": [
       "array([[6., 9.],\n",
       "       [2., 4.]])"
      ]
     },
     "execution_count": 6,
     "metadata": {},
     "output_type": "execute_result"
    }
   ],
   "source": [
    "l,c=A.shape\n",
    "for i in range(l):\n",
    "    for j in range(c):\n",
    "        C[i,j]=A[i,j]+B[i,j]\n",
    "        \n",
    "C      "
   ]
  },
  {
   "cell_type": "code",
   "execution_count": 7,
   "metadata": {},
   "outputs": [
    {
     "data": {
      "text/plain": [
       "array([[6, 9],\n",
       "       [2, 4]])"
      ]
     },
     "execution_count": 7,
     "metadata": {},
     "output_type": "execute_result"
    }
   ],
   "source": [
    "#Agora com numpy\n",
    "A+B"
   ]
  },
  {
   "cell_type": "code",
   "execution_count": 8,
   "metadata": {},
   "outputs": [
    {
     "data": {
      "text/plain": [
       "array([[3, 6],\n",
       "       [6, 9]])"
      ]
     },
     "execution_count": 8,
     "metadata": {},
     "output_type": "execute_result"
    }
   ],
   "source": [
    "#No produto de um escalar por uma matriz, basta multiplicar cada elemento da matriz pelo escalar\n",
    "#Faça 3*A\n",
    "for i in range(l):\n",
    "    for j in range(c):\n",
    "        A[i,j]=3*A[i,j]\n",
    "A"
   ]
  },
  {
   "cell_type": "code",
   "execution_count": 9,
   "metadata": {},
   "outputs": [
    {
     "data": {
      "text/plain": [
       "array([[30, 42],\n",
       "       [ 0,  6]])"
      ]
     },
     "execution_count": 9,
     "metadata": {},
     "output_type": "execute_result"
    }
   ],
   "source": [
    "#Com numpy\n",
    "6*B"
   ]
  },
  {
   "cell_type": "code",
   "execution_count": 11,
   "metadata": {},
   "outputs": [
    {
     "name": "stdout",
     "output_type": "stream",
     "text": [
      "(3, 3)\n"
     ]
    },
    {
     "data": {
      "text/plain": [
       "(array([[1, 2],\n",
       "        [2, 3],\n",
       "        [6, 1]]),\n",
       " array([[5, 7, 4],\n",
       "        [0, 1, 9]]),\n",
       " array([[ 5.,  9., 22.],\n",
       "        [10., 17., 35.],\n",
       "        [30., 43., 33.]]))"
      ]
     },
     "execution_count": 11,
     "metadata": {},
     "output_type": "execute_result"
    }
   ],
   "source": [
    "#No produto de matrizes A*B, o número de colunas de A deve ser igual ao numéro de linhas de B. Assim,\n",
    "#é possível multiplicar Uma matriz A(2x5) por uma B(5,6). Multiplicando uma Matriz A3x2 por uma B2x4 resultará \n",
    "#em uma matriz de dimensões 3x4. Cada elemento i,j da matriz resultante é o produto \"escalar\" da linha i da \n",
    "#primeira matriz pela coluna j da segunda\n",
    "A=np.array([[1,2],[2,3],[6,1]])\n",
    "B=np.array([[5,7,4],[0,1,9]])\n",
    "la,ca=A.shape\n",
    "lb,cb=B.shape\n",
    "C=np.zeros((la,cb))\n",
    "print(C.shape)\n",
    "for i in range(la):\n",
    "    for j in range(cb):\n",
    "        for k in range(ca):\n",
    "            C[i,j]+=A[i,k]*B[k,j]\n",
    "A,B,C            "
   ]
  },
  {
   "cell_type": "code",
   "execution_count": 13,
   "metadata": {},
   "outputs": [
    {
     "data": {
      "text/plain": [
       "array([[ 5,  9, 22],\n",
       "       [10, 17, 35],\n",
       "       [30, 43, 33]])"
      ]
     },
     "execution_count": 13,
     "metadata": {},
     "output_type": "execute_result"
    }
   ],
   "source": [
    "#Com numpy\n",
    "np.dot(A,B)"
   ]
  },
  {
   "cell_type": "code",
   "execution_count": null,
   "metadata": {},
   "outputs": [],
   "source": []
  }
 ],
 "metadata": {
  "kernelspec": {
   "display_name": "Python 3",
   "language": "python",
   "name": "python3"
  },
  "language_info": {
   "codemirror_mode": {
    "name": "ipython",
    "version": 3
   },
   "file_extension": ".py",
   "mimetype": "text/x-python",
   "name": "python",
   "nbconvert_exporter": "python",
   "pygments_lexer": "ipython3",
   "version": "3.7.6"
  }
 },
 "nbformat": 4,
 "nbformat_minor": 4
}
