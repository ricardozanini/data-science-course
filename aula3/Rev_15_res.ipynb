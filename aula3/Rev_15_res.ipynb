{
 "cells": [
  {
   "cell_type": "code",
   "execution_count": 4,
   "metadata": {},
   "outputs": [],
   "source": [
    "import numpy as np"
   ]
  },
  {
   "cell_type": "code",
   "execution_count": 8,
   "metadata": {},
   "outputs": [],
   "source": [
    "#crie uma matriz M 2x3 de zeros (um array multidimensional)\n",
    "M=np.zeros((2,3))"
   ]
  },
  {
   "cell_type": "code",
   "execution_count": 10,
   "metadata": {},
   "outputs": [
    {
     "data": {
      "text/plain": [
       "(2, 3)"
      ]
     },
     "execution_count": 10,
     "metadata": {},
     "output_type": "execute_result"
    }
   ],
   "source": [
    "#Apresente as dimensões da Matriz\n",
    "M.shape"
   ]
  },
  {
   "cell_type": "code",
   "execution_count": 13,
   "metadata": {},
   "outputs": [
    {
     "data": {
      "text/plain": [
       "array([[0., 1., 2.],\n",
       "       [1., 2., 3.]])"
      ]
     },
     "execution_count": 13,
     "metadata": {},
     "output_type": "execute_result"
    }
   ],
   "source": [
    "#Embora na Matemática, os índices das matrizes comecem do 1, com os arrays do numpy, começamos do zero, assim os índices\n",
    "#do primeiro elemento são 0,0....coloque na matriz criada 2x3 os elementos pela soma de índices numpy\n",
    "l,c=M.shape\n",
    "for i in range(l):\n",
    "    for j in range(c):\n",
    "        M[i,j]=i+j\n",
    "M"
   ]
  },
  {
   "cell_type": "code",
   "execution_count": 14,
   "metadata": {},
   "outputs": [
    {
     "name": "stdout",
     "output_type": "stream",
     "text": [
      "M( 0 , 0 )= 0.0\n",
      "M( 0 , 1 )= 1.0\n",
      "M( 0 , 2 )= 2.0\n",
      "M( 1 , 0 )= 1.0\n",
      "M( 1 , 1 )= 2.0\n",
      "M( 1 , 2 )= 3.0\n"
     ]
    },
    {
     "data": {
      "text/plain": [
       "array([[0., 1., 2.],\n",
       "       [1., 2., 3.]])"
      ]
     },
     "execution_count": 14,
     "metadata": {},
     "output_type": "execute_result"
    }
   ],
   "source": [
    "#Apresente os índices e os elementos da Matriz M\n",
    "for i in range(l):\n",
    "    for j in range(c):\n",
    "        print('M(',i,',',j,')=',M[i,j])\n",
    "M"
   ]
  },
  {
   "cell_type": "code",
   "execution_count": null,
   "metadata": {},
   "outputs": [],
   "source": []
  }
 ],
 "metadata": {
  "kernelspec": {
   "display_name": "Python 3",
   "language": "python",
   "name": "python3"
  },
  "language_info": {
   "codemirror_mode": {
    "name": "ipython",
    "version": 3
   },
   "file_extension": ".py",
   "mimetype": "text/x-python",
   "name": "python",
   "nbconvert_exporter": "python",
   "pygments_lexer": "ipython3",
   "version": "3.7.6"
  }
 },
 "nbformat": 4,
 "nbformat_minor": 4
}
