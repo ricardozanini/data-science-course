{
 "cells": [
  {
   "cell_type": "markdown",
   "metadata": {},
   "source": [
    "Brincando com índice"
   ]
  },
  {
   "cell_type": "code",
   "execution_count": 54,
   "metadata": {},
   "outputs": [],
   "source": [
    "import pandas as pd\n",
    "import matplotlib.pyplot as plt\n",
    "import datetime as dt"
   ]
  },
  {
   "cell_type": "code",
   "execution_count": 55,
   "metadata": {},
   "outputs": [],
   "source": [
    "krot=pd.read_csv('c:\\\\dados\\\\krot3.csv',delimiter=';')"
   ]
  },
  {
   "cell_type": "code",
   "execution_count": 56,
   "metadata": {},
   "outputs": [
    {
     "data": {
      "text/html": [
       "<div>\n",
       "<style scoped>\n",
       "    .dataframe tbody tr th:only-of-type {\n",
       "        vertical-align: middle;\n",
       "    }\n",
       "\n",
       "    .dataframe tbody tr th {\n",
       "        vertical-align: top;\n",
       "    }\n",
       "\n",
       "    .dataframe thead th {\n",
       "        text-align: right;\n",
       "    }\n",
       "</style>\n",
       "<table border=\"1\" class=\"dataframe\">\n",
       "  <thead>\n",
       "    <tr style=\"text-align: right;\">\n",
       "      <th></th>\n",
       "      <th>Data</th>\n",
       "      <th>Abertura</th>\n",
       "      <th>Fechamento</th>\n",
       "    </tr>\n",
       "  </thead>\n",
       "  <tbody>\n",
       "    <tr>\n",
       "      <th>0</th>\n",
       "      <td>07/01/2016</td>\n",
       "      <td>14.13</td>\n",
       "      <td>14.28</td>\n",
       "    </tr>\n",
       "    <tr>\n",
       "      <th>1</th>\n",
       "      <td>07/04/2016</td>\n",
       "      <td>14.40</td>\n",
       "      <td>14.08</td>\n",
       "    </tr>\n",
       "    <tr>\n",
       "      <th>2</th>\n",
       "      <td>07/05/2016</td>\n",
       "      <td>13.93</td>\n",
       "      <td>13.85</td>\n",
       "    </tr>\n",
       "    <tr>\n",
       "      <th>3</th>\n",
       "      <td>07/06/2016</td>\n",
       "      <td>13.90</td>\n",
       "      <td>13.57</td>\n",
       "    </tr>\n",
       "    <tr>\n",
       "      <th>4</th>\n",
       "      <td>07/07/2016</td>\n",
       "      <td>13.70</td>\n",
       "      <td>13.56</td>\n",
       "    </tr>\n",
       "  </tbody>\n",
       "</table>\n",
       "</div>"
      ],
      "text/plain": [
       "         Data  Abertura  Fechamento\n",
       "0  07/01/2016     14.13       14.28\n",
       "1  07/04/2016     14.40       14.08\n",
       "2  07/05/2016     13.93       13.85\n",
       "3  07/06/2016     13.90       13.57\n",
       "4  07/07/2016     13.70       13.56"
      ]
     },
     "execution_count": 56,
     "metadata": {},
     "output_type": "execute_result"
    }
   ],
   "source": [
    "krot.head()"
   ]
  },
  {
   "cell_type": "code",
   "execution_count": 57,
   "metadata": {},
   "outputs": [
    {
     "data": {
      "text/plain": [
       "0      14.28\n",
       "1      14.08\n",
       "2      13.85\n",
       "3      13.57\n",
       "4      13.56\n",
       "       ...  \n",
       "172    13.60\n",
       "173    13.55\n",
       "174    14.04\n",
       "175     0.00\n",
       "176    14.04\n",
       "Name: Fechamento, Length: 177, dtype: float64"
      ]
     },
     "execution_count": 57,
     "metadata": {},
     "output_type": "execute_result"
    }
   ],
   "source": [
    "#criar a série fechamento\n",
    "f=krot['Fechamento']\n",
    "f"
   ]
  },
  {
   "cell_type": "code",
   "execution_count": 58,
   "metadata": {},
   "outputs": [],
   "source": [
    "#Colocar a série Data como índice\n",
    "f.index=pd.DatetimeIndex(krot['Data'])\n"
   ]
  },
  {
   "cell_type": "code",
   "execution_count": 59,
   "metadata": {},
   "outputs": [
    {
     "data": {
      "text/plain": [
       "Data\n",
       "2016-07-01    14.28\n",
       "2016-07-04    14.08\n",
       "2016-07-05    13.85\n",
       "2016-07-06    13.57\n",
       "2016-07-07    13.56\n",
       "              ...  \n",
       "2017-02-14    13.36\n",
       "2017-02-15    13.60\n",
       "2017-02-16    13.55\n",
       "2017-02-17    14.04\n",
       "2017-02-20    14.04\n",
       "Name: Fechamento, Length: 161, dtype: float64"
      ]
     },
     "execution_count": 59,
     "metadata": {},
     "output_type": "execute_result"
    }
   ],
   "source": [
    "#Drop nas linhas com valor 0.0\n",
    "ind=f[f==0.0].index\n",
    "f.drop(ind,inplace=True)\n",
    "f"
   ]
  },
  {
   "cell_type": "code",
   "execution_count": 60,
   "metadata": {},
   "outputs": [
    {
     "data": {
      "text/plain": [
       "Data\n",
       "2016-07-01    14.28\n",
       "2016-07-04    14.08\n",
       "2016-07-05    13.85\n",
       "2016-07-06    13.57\n",
       "2016-07-07    13.56\n",
       "              ...  \n",
       "2016-12-23    13.03\n",
       "2016-12-26    13.23\n",
       "2016-12-27    13.15\n",
       "2016-12-28    13.27\n",
       "2016-12-29    13.33\n",
       "Name: Fechamento, Length: 126, dtype: float64"
      ]
     },
     "execution_count": 60,
     "metadata": {},
     "output_type": "execute_result"
    }
   ],
   "source": [
    "#Obter valores antes de 01/01/2017\n",
    "f[f.index<dt.datetime(2017,1,1)]"
   ]
  },
  {
   "cell_type": "code",
   "execution_count": 61,
   "metadata": {},
   "outputs": [
    {
     "data": {
      "text/plain": [
       "Data\n",
       "2016-07-01    14.28\n",
       "2016-07-04    14.08\n",
       "2016-07-05    13.85\n",
       "2016-07-06    13.57\n",
       "2016-07-07    13.56\n",
       "              ...  \n",
       "2016-12-23    13.03\n",
       "2016-12-26    13.23\n",
       "2016-12-27    13.15\n",
       "2016-12-28    13.27\n",
       "2016-12-29    13.33\n",
       "Name: Fechamento, Length: 126, dtype: float64"
      ]
     },
     "execution_count": 61,
     "metadata": {},
     "output_type": "execute_result"
    }
   ],
   "source": [
    "f[f.index<dt.datetime.strptime('1*1*2017','%d*%m*%Y')]"
   ]
  },
  {
   "cell_type": "code",
   "execution_count": 62,
   "metadata": {},
   "outputs": [
    {
     "data": {
      "text/plain": [
       "Data\n",
       "2016-12-29    13.34\n",
       "Name: Fechamento, dtype: float64"
      ]
     },
     "execution_count": 62,
     "metadata": {},
     "output_type": "execute_result"
    }
   ],
   "source": [
    "#Alterar o fechamento de  29/12/2016 para 13.34\n",
    "f[dt.datetime(2016,12,29)]=13.34\n",
    "f[f==13.34]"
   ]
  },
  {
   "cell_type": "code",
   "execution_count": 63,
   "metadata": {},
   "outputs": [
    {
     "data": {
      "image/png": "[encoded data removed]",
      "text/plain": [
       "<Figure size 432x288 with 1 Axes>"
      ]
     },
     "metadata": {
      "needs_background": "light"
     },
     "output_type": "display_data"
    }
   ],
   "source": [
    "plt.plot(f.index[:50],f[:50],color='blue',)\n",
    "plt.xticks(rotation=90)\n",
    "plt.show()"
   ]
  },
  {
   "cell_type": "code",
   "execution_count": 44,
   "metadata": {},
   "outputs": [
    {
     "data": {
      "text/plain": [
       "[Timestamp('2016-07-01 00:00:00'),\n",
       " Timestamp('2016-07-04 00:00:00'),\n",
       " Timestamp('2016-07-05 00:00:00'),\n",
       " Timestamp('2016-07-06 00:00:00'),\n",
       " Timestamp('2016-07-07 00:00:00'),\n",
       " Timestamp('2016-07-08 00:00:00'),\n",
       " Timestamp('2016-07-11 00:00:00'),\n",
       " Timestamp('2016-07-12 00:00:00'),\n",
       " Timestamp('2016-07-13 00:00:00'),\n",
       " Timestamp('2016-07-14 00:00:00'),\n",
       " Timestamp('2016-07-15 00:00:00'),\n",
       " Timestamp('2016-07-18 00:00:00'),\n",
       " Timestamp('2016-07-19 00:00:00'),\n",
       " Timestamp('2016-07-20 00:00:00'),\n",
       " Timestamp('2016-07-21 00:00:00'),\n",
       " Timestamp('2016-07-22 00:00:00'),\n",
       " Timestamp('2016-07-25 00:00:00'),\n",
       " Timestamp('2016-07-26 00:00:00'),\n",
       " Timestamp('2016-07-27 00:00:00'),\n",
       " Timestamp('2016-07-28 00:00:00'),\n",
       " Timestamp('2016-07-29 00:00:00'),\n",
       " Timestamp('2016-08-01 00:00:00'),\n",
       " Timestamp('2016-08-02 00:00:00'),\n",
       " Timestamp('2016-08-03 00:00:00'),\n",
       " Timestamp('2016-08-04 00:00:00'),\n",
       " Timestamp('2016-08-05 00:00:00'),\n",
       " Timestamp('2016-08-08 00:00:00'),\n",
       " Timestamp('2016-08-09 00:00:00'),\n",
       " Timestamp('2016-08-10 00:00:00'),\n",
       " Timestamp('2016-08-11 00:00:00'),\n",
       " Timestamp('2016-08-12 00:00:00'),\n",
       " Timestamp('2016-08-15 00:00:00'),\n",
       " Timestamp('2016-08-16 00:00:00'),\n",
       " Timestamp('2016-08-17 00:00:00'),\n",
       " Timestamp('2016-08-18 00:00:00'),\n",
       " Timestamp('2016-08-19 00:00:00'),\n",
       " Timestamp('2016-08-22 00:00:00'),\n",
       " Timestamp('2016-08-23 00:00:00'),\n",
       " Timestamp('2016-08-24 00:00:00'),\n",
       " Timestamp('2016-08-25 00:00:00'),\n",
       " Timestamp('2016-08-26 00:00:00'),\n",
       " Timestamp('2016-08-29 00:00:00'),\n",
       " Timestamp('2016-08-30 00:00:00'),\n",
       " Timestamp('2016-08-31 00:00:00'),\n",
       " Timestamp('2016-09-01 00:00:00'),\n",
       " Timestamp('2016-09-02 00:00:00'),\n",
       " Timestamp('2016-09-05 00:00:00'),\n",
       " Timestamp('2016-09-06 00:00:00'),\n",
       " Timestamp('2016-09-08 00:00:00'),\n",
       " Timestamp('2016-09-09 00:00:00'),\n",
       " Timestamp('2016-09-12 00:00:00'),\n",
       " Timestamp('2016-09-13 00:00:00'),\n",
       " Timestamp('2016-09-14 00:00:00'),\n",
       " Timestamp('2016-09-15 00:00:00'),\n",
       " Timestamp('2016-09-16 00:00:00'),\n",
       " Timestamp('2016-09-19 00:00:00'),\n",
       " Timestamp('2016-09-20 00:00:00'),\n",
       " Timestamp('2016-09-21 00:00:00'),\n",
       " Timestamp('2016-09-22 00:00:00'),\n",
       " Timestamp('2016-09-23 00:00:00'),\n",
       " Timestamp('2016-09-26 00:00:00'),\n",
       " Timestamp('2016-09-27 00:00:00'),\n",
       " Timestamp('2016-09-28 00:00:00'),\n",
       " Timestamp('2016-09-29 00:00:00'),\n",
       " Timestamp('2016-09-30 00:00:00'),\n",
       " Timestamp('2016-10-03 00:00:00'),\n",
       " Timestamp('2016-10-04 00:00:00'),\n",
       " Timestamp('2016-10-05 00:00:00'),\n",
       " Timestamp('2016-10-06 00:00:00'),\n",
       " Timestamp('2016-10-07 00:00:00'),\n",
       " Timestamp('2016-10-10 00:00:00'),\n",
       " Timestamp('2016-10-11 00:00:00'),\n",
       " Timestamp('2016-10-13 00:00:00'),\n",
       " Timestamp('2016-10-14 00:00:00'),\n",
       " Timestamp('2016-10-17 00:00:00'),\n",
       " Timestamp('2016-10-18 00:00:00'),\n",
       " Timestamp('2016-10-19 00:00:00'),\n",
       " Timestamp('2016-10-20 00:00:00'),\n",
       " Timestamp('2016-10-21 00:00:00'),\n",
       " Timestamp('2016-10-24 00:00:00'),\n",
       " Timestamp('2016-10-25 00:00:00'),\n",
       " Timestamp('2016-10-26 00:00:00'),\n",
       " Timestamp('2016-10-27 00:00:00'),\n",
       " Timestamp('2016-10-28 00:00:00'),\n",
       " Timestamp('2016-10-31 00:00:00'),\n",
       " Timestamp('2016-11-01 00:00:00'),\n",
       " Timestamp('2016-11-03 00:00:00'),\n",
       " Timestamp('2016-11-04 00:00:00'),\n",
       " Timestamp('2016-11-07 00:00:00'),\n",
       " Timestamp('2016-11-08 00:00:00'),\n",
       " Timestamp('2016-11-09 00:00:00'),\n",
       " Timestamp('2016-11-10 00:00:00'),\n",
       " Timestamp('2016-11-11 00:00:00'),\n",
       " Timestamp('2016-11-14 00:00:00'),\n",
       " Timestamp('2016-11-16 00:00:00'),\n",
       " Timestamp('2016-11-17 00:00:00'),\n",
       " Timestamp('2016-11-18 00:00:00'),\n",
       " Timestamp('2016-11-21 00:00:00'),\n",
       " Timestamp('2016-11-22 00:00:00'),\n",
       " Timestamp('2016-11-23 00:00:00'),\n",
       " Timestamp('2016-11-24 00:00:00'),\n",
       " Timestamp('2016-11-25 00:00:00'),\n",
       " Timestamp('2016-11-28 00:00:00'),\n",
       " Timestamp('2016-11-29 00:00:00'),\n",
       " Timestamp('2016-11-30 00:00:00'),\n",
       " Timestamp('2016-12-01 00:00:00'),\n",
       " Timestamp('2016-12-02 00:00:00'),\n",
       " Timestamp('2016-12-05 00:00:00'),\n",
       " Timestamp('2016-12-06 00:00:00'),\n",
       " Timestamp('2016-12-07 00:00:00'),\n",
       " Timestamp('2016-12-08 00:00:00'),\n",
       " Timestamp('2016-12-09 00:00:00'),\n",
       " Timestamp('2016-12-12 00:00:00'),\n",
       " Timestamp('2016-12-13 00:00:00'),\n",
       " Timestamp('2016-12-14 00:00:00'),\n",
       " Timestamp('2016-12-15 00:00:00'),\n",
       " Timestamp('2016-12-16 00:00:00'),\n",
       " Timestamp('2016-12-19 00:00:00'),\n",
       " Timestamp('2016-12-20 00:00:00'),\n",
       " Timestamp('2016-12-21 00:00:00'),\n",
       " Timestamp('2016-12-22 00:00:00'),\n",
       " Timestamp('2016-12-23 00:00:00'),\n",
       " Timestamp('2016-12-26 00:00:00'),\n",
       " Timestamp('2016-12-27 00:00:00'),\n",
       " Timestamp('2016-12-28 00:00:00'),\n",
       " Timestamp('2016-12-29 00:00:00'),\n",
       " Timestamp('2017-01-02 00:00:00'),\n",
       " Timestamp('2017-01-03 00:00:00'),\n",
       " Timestamp('2017-01-04 00:00:00'),\n",
       " Timestamp('2017-01-05 00:00:00'),\n",
       " Timestamp('2017-01-06 00:00:00'),\n",
       " Timestamp('2017-01-09 00:00:00'),\n",
       " Timestamp('2017-01-10 00:00:00'),\n",
       " Timestamp('2017-01-11 00:00:00'),\n",
       " Timestamp('2017-01-12 00:00:00'),\n",
       " Timestamp('2017-01-13 00:00:00'),\n",
       " Timestamp('2017-01-16 00:00:00'),\n",
       " Timestamp('2017-01-17 00:00:00'),\n",
       " Timestamp('2017-01-18 00:00:00'),\n",
       " Timestamp('2017-01-19 00:00:00'),\n",
       " Timestamp('2017-01-20 00:00:00'),\n",
       " Timestamp('2017-01-23 00:00:00'),\n",
       " Timestamp('2017-01-24 00:00:00'),\n",
       " Timestamp('2017-01-26 00:00:00'),\n",
       " Timestamp('2017-01-27 00:00:00'),\n",
       " Timestamp('2017-01-30 00:00:00'),\n",
       " Timestamp('2017-01-31 00:00:00'),\n",
       " Timestamp('2017-02-01 00:00:00'),\n",
       " Timestamp('2017-02-02 00:00:00'),\n",
       " Timestamp('2017-02-03 00:00:00'),\n",
       " Timestamp('2017-02-06 00:00:00'),\n",
       " Timestamp('2017-02-07 00:00:00'),\n",
       " Timestamp('2017-02-08 00:00:00'),\n",
       " Timestamp('2017-02-09 00:00:00'),\n",
       " Timestamp('2017-02-10 00:00:00'),\n",
       " Timestamp('2017-02-13 00:00:00'),\n",
       " Timestamp('2017-02-14 00:00:00'),\n",
       " Timestamp('2017-02-15 00:00:00'),\n",
       " Timestamp('2017-02-16 00:00:00'),\n",
       " Timestamp('2017-02-17 00:00:00'),\n",
       " Timestamp('2017-02-20 00:00:00')]"
      ]
     },
     "execution_count": 44,
     "metadata": {},
     "output_type": "execute_result"
    }
   ],
   "source": [
    "list(f.index)"
   ]
  },
  {
   "cell_type": "code",
   "execution_count": 64,
   "metadata": {},
   "outputs": [
    {
     "data": {
      "text/plain": [
       "True"
      ]
     },
     "execution_count": 64,
     "metadata": {},
     "output_type": "execute_result"
    }
   ],
   "source": [
    "dt.datetime.strptime('6/7/1964','%d/%m/%Y')==dt.datetime(1964,7,6)"
   ]
  },
  {
   "cell_type": "code",
   "execution_count": null,
   "metadata": {},
   "outputs": [],
   "source": []
  }
 ],
 "metadata": {
  "kernelspec": {
   "display_name": "Python 3",
   "language": "python",
   "name": "python3"
  },
  "language_info": {
   "codemirror_mode": {
    "name": "ipython",
    "version": 3
   },
   "file_extension": ".py",
   "mimetype": "text/x-python",
   "name": "python",
   "nbconvert_exporter": "python",
   "pygments_lexer": "ipython3",
   "version": "3.7.6"
  }
 },
 "nbformat": 4,
 "nbformat_minor": 4
}
