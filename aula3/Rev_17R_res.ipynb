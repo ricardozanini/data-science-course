{
 "cells": [
  {
   "cell_type": "markdown",
   "metadata": {},
   "source": [
    "Matriz transposta, identidade e inversa"
   ]
  },
  {
   "cell_type": "code",
   "execution_count": 1,
   "metadata": {},
   "outputs": [],
   "source": [
    "import numpy as np"
   ]
  },
  {
   "cell_type": "code",
   "execution_count": 2,
   "metadata": {},
   "outputs": [
    {
     "data": {
      "text/plain": [
       "(array([[1, 2, 3],\n",
       "        [4, 5, 6]]),\n",
       " array([[1., 4.],\n",
       "        [2., 5.],\n",
       "        [3., 6.]]))"
      ]
     },
     "execution_count": 2,
     "metadata": {},
     "output_type": "execute_result"
    }
   ],
   "source": [
    "#A transposição da Matriz implica converter as linhas em colunas...\n",
    "A=np.array([[1,2,3],[4,5,6]])\n",
    "la,ca=A.shape\n",
    "At=np.zeros((ca,la))\n",
    "for i in range(ca):\n",
    "    for j in range(la):\n",
    "        At[i,j]=A[j,i]\n",
    "A,At"
   ]
  },
  {
   "cell_type": "code",
   "execution_count": 3,
   "metadata": {},
   "outputs": [
    {
     "data": {
      "text/plain": [
       "(array([[1, 4],\n",
       "        [2, 5],\n",
       "        [3, 6]]),\n",
       " array([[1, 4],\n",
       "        [2, 5],\n",
       "        [3, 6]]))"
      ]
     },
     "execution_count": 3,
     "metadata": {},
     "output_type": "execute_result"
    }
   ],
   "source": [
    "#com numpy\n",
    "A.T, A.transpose()"
   ]
  },
  {
   "cell_type": "code",
   "execution_count": 4,
   "metadata": {},
   "outputs": [
    {
     "data": {
      "text/plain": [
       "(array([[1, 2, 3],\n",
       "        [3, 5, 2],\n",
       "        [9, 0, 4]]),\n",
       " array([[1., 2., 3.],\n",
       "        [3., 5., 2.],\n",
       "        [9., 0., 4.]]))"
      ]
     },
     "execution_count": 4,
     "metadata": {},
     "output_type": "execute_result"
    }
   ],
   "source": [
    "#A matriz identidade é quadrada (número de linhas=número de colunas)\n",
    "# é uma matriz com um para todos os elementos da diag principal e zero no restante\n",
    "#é o elemento neutro da multiplicação, mostre em uma matrix 3x3\n",
    "i3=np.identity(3)\n",
    "M=np.array([[1,2,3],[3,5,2],[9,0,4]])\n",
    "M,np.dot(i3,M)"
   ]
  },
  {
   "cell_type": "code",
   "execution_count": 5,
   "metadata": {},
   "outputs": [
    {
     "data": {
      "text/plain": [
       "(array([[ 0.25, -0.5 ],\n",
       "        [-0.25,  1.5 ]]),\n",
       " array([[1.00000000e+00, 5.55111512e-17],\n",
       "        [0.00000000e+00, 1.00000000e+00]]))"
      ]
     },
     "execution_count": 5,
     "metadata": {},
     "output_type": "execute_result"
    }
   ],
   "source": [
    "#Uma matriz M, nultiplicada pela sua inversa, resulta a matriz identidade\n",
    "#Inverta a matriz [[6,2],[1,1]] e multiplique pela identidade para provar\n",
    "M=np.array([[6,2],[1,1]])\n",
    "Minv=np.linalg.inv(M)\n",
    "Minv,np.dot(Minv,M)"
   ]
  },
  {
   "cell_type": "code",
   "execution_count": 6,
   "metadata": {},
   "outputs": [
    {
     "data": {
      "text/plain": [
       "array([[2.],\n",
       "       [4.]])"
      ]
     },
     "execution_count": 6,
     "metadata": {},
     "output_type": "execute_result"
    }
   ],
   "source": [
    "#Vamos resolver o sistema de equações lineares\n",
    "# A+B=6\n",
    "# 2A-B=0\n",
    "M=np.array([[1,1],[2,-1]])\n",
    "y=np.array([[6],[0]])\n",
    "X=np.dot(np.linalg.inv(M),y)\n",
    "X"
   ]
  },
  {
   "cell_type": "code",
   "execution_count": 7,
   "metadata": {},
   "outputs": [
    {
     "data": {
      "text/plain": [
       "array([[ 1.00000000e+00, -5.55111512e-17,  0.00000000e+00],\n",
       "       [ 5.55111512e-17,  1.00000000e+00,  0.00000000e+00],\n",
       "       [ 0.00000000e+00,  0.00000000e+00,  1.00000000e+00]])"
      ]
     },
     "execution_count": 7,
     "metadata": {},
     "output_type": "execute_result"
    }
   ],
   "source": [
    "#Inverta uma matriz 3x3 e verifique se uam é mesmo a inversa da outra.\n",
    "M=np.array([[1,1,2],[2,-1,4],[4,-1,0]])\n",
    "Minv=np.linalg.inv(M)\n",
    "np.dot(M,Minv)"
   ]
  },
  {
   "cell_type": "code",
   "execution_count": null,
   "metadata": {},
   "outputs": [],
   "source": []
  }
 ],
 "metadata": {
  "kernelspec": {
   "display_name": "Python 3",
   "language": "python",
   "name": "python3"
  },
  "language_info": {
   "codemirror_mode": {
    "name": "ipython",
    "version": 3
   },
   "file_extension": ".py",
   "mimetype": "text/x-python",
   "name": "python",
   "nbconvert_exporter": "python",
   "pygments_lexer": "ipython3",
   "version": "3.7.6"
  }
 },
 "nbformat": 4,
 "nbformat_minor": 4
}
