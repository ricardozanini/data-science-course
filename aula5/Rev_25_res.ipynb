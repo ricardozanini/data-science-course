{
 "cells": [
  {
   "cell_type": "code",
   "execution_count": 4,
   "metadata": {},
   "outputs": [],
   "source": [
    "import matplotlib.pyplot as plt"
   ]
  },
  {
   "cell_type": "markdown",
   "metadata": {},
   "source": [
    "Crie a função gradient de f(x)=3*x**2+ y**2-200"
   ]
  },
  {
   "cell_type": "code",
   "execution_count": 1,
   "metadata": {},
   "outputs": [],
   "source": [
    "def grad(x,y):\n",
    "    return (6*x,2*y)"
   ]
  },
  {
   "cell_type": "markdown",
   "metadata": {},
   "source": [
    " Utilizando Gradient descent e partindo de x=3 e y=4, minimize a função e apresente x,y e valor mínimo"
   ]
  },
  {
   "cell_type": "code",
   "execution_count": 11,
   "metadata": {},
   "outputs": [
    {
     "name": "stdout",
     "output_type": "stream",
     "text": [
      "4.820814132776938e-40 8.148143905337951e-10 -200.0\n"
     ]
    }
   ],
   "source": [
    "x,y=3,4\n",
    "lr=0.1 #learning rate\n",
    "for i in range(100):\n",
    "    g=grad(x,y)\n",
    "    x-=lr*g[0]\n",
    "    y-=lr*g[1]\n",
    "print(x,y,3*x**2+y**2-200)"
   ]
  },
  {
   "cell_type": "markdown",
   "metadata": {},
   "source": [
    "Faça o gráfico x * y"
   ]
  },
  {
   "cell_type": "code",
   "execution_count": 12,
   "metadata": {},
   "outputs": [
    {
     "name": "stdout",
     "output_type": "stream",
     "text": [
      "4.820814132776938e-40 8.148143905337951e-10 -200.0\n"
     ]
    },
    {
     "data": {
      "image/png": "[encoded data removed]",
      "text/plain": [
       "<Figure size 432x288 with 1 Axes>"
      ]
     },
     "metadata": {
      "needs_background": "light"
     },
     "output_type": "display_data"
    }
   ],
   "source": [
    "x,y=3,4\n",
    "lr=0.1 #learning rate\n",
    "for i in range(100):\n",
    "    plt.plot(x,y,'bo')\n",
    "    g=grad(x,y)\n",
    "    x-=lr*g[0]\n",
    "    y-=lr*g[1]\n",
    "print(x,y,3*x**2+y**2-200)\n",
    "plt.show()"
   ]
  },
  {
   "cell_type": "code",
   "execution_count": null,
   "metadata": {},
   "outputs": [],
   "source": []
  }
 ],
 "metadata": {
  "kernelspec": {
   "display_name": "Python 3",
   "language": "python",
   "name": "python3"
  },
  "language_info": {
   "codemirror_mode": {
    "name": "ipython",
    "version": 3
   },
   "file_extension": ".py",
   "mimetype": "text/x-python",
   "name": "python",
   "nbconvert_exporter": "python",
   "pygments_lexer": "ipython3",
   "version": "3.7.6"
  }
 },
 "nbformat": 4,
 "nbformat_minor": 4
}
