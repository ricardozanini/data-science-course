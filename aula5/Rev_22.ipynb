{
 "cells": [
  {
   "cell_type": "markdown",
   "metadata": {},
   "source": [
    "Aquecimento det e bases"
   ]
  },
  {
   "cell_type": "code",
   "execution_count": 1,
   "metadata": {},
   "outputs": [],
   "source": [
    "import numpy as np"
   ]
  },
  {
   "cell_type": "code",
   "execution_count": 9,
   "metadata": {},
   "outputs": [
    {
     "name": "stdout",
     "output_type": "stream",
     "text": [
      "[[2 1 0]\n",
      " [3 2 7]\n",
      " [1 1 1]]\n"
     ]
    }
   ],
   "source": [
    "#Obtenha o determinante de M na mão e com numpy\n",
    "M=np.array([[2,1,0],[3,2,7],[1,1,1]])\n",
    "print(M)"
   ]
  },
  {
   "cell_type": "code",
   "execution_count": 10,
   "metadata": {
    "collapsed": true
   },
   "outputs": [
    {
     "data": {
      "text/plain": [
       "(-6, -6.000000000000001)"
      ]
     },
     "execution_count": 10,
     "metadata": {},
     "output_type": "execute_result"
    }
   ],
   "source": []
  },
  {
   "cell_type": "code",
   "execution_count": 11,
   "metadata": {
    "collapsed": true
   },
   "outputs": [
    {
     "data": {
      "text/plain": [
       "True"
      ]
     },
     "execution_count": 11,
     "metadata": {},
     "output_type": "execute_result"
    }
   ],
   "source": [
    "#Mostre que o det A é zero sem calculá-lo\n",
    "A=np.array([[2,1,3],[3,2,5],[1,1,2]])\n"
   ]
  },
  {
   "cell_type": "code",
   "execution_count": 12,
   "metadata": {
    "collapsed": true
   },
   "outputs": [
    {
     "data": {
      "text/plain": [
       "array([2., 2., 2.])"
      ]
     },
     "execution_count": 12,
     "metadata": {},
     "output_type": "execute_result"
    }
   ],
   "source": [
    "#Resolva a equação matricialmente\n",
    "#x+y+2z=8\n",
    "#x-y=0\n",
    "#x-z=0\n"
   ]
  },
  {
   "cell_type": "code",
   "execution_count": 18,
   "metadata": {},
   "outputs": [
    {
     "name": "stdout",
     "output_type": "stream",
     "text": [
      "[[ 1  0]\n",
      " [ 0 -1]]\n",
      "[ 1 -1]\n",
      "[[ 1.  0.]\n",
      " [-0. -1.]]\n",
      "[ 1. -1.]\n"
     ]
    }
   ],
   "source": [
    "#dada a base x,y (1,0) e (0,1) e a base nova x',y' (1,0) e (0,-1)\n",
    "#1)obtenha a transformação da nova para a antiga (matriz NA com as colunas recebendo a base nova) e a teste\n",
    "#2)obtenha a transformação da antiga para a nova (invertendo a matriz NA) e a test\n",
    "NA=np.array([[1,0],[0,-1]])\n",
    "print(NA)\n",
    "\n",
    "#observe que a inversa foi a transposta..isso acontece em bases ortigonais (o produto interno entre os vetores é nulo). \n",
    "#No caso, são bases ortonormais..além de ortogonais, são de vetores unitários"
   ]
  },
  {
   "cell_type": "code",
   "execution_count": 19,
   "metadata": {
    "collapsed": true
   },
   "outputs": [
    {
     "data": {
      "text/plain": [
       "array([[1., 0., 0.],\n",
       "       [0., 1., 0.],\n",
       "       [0., 0., 1.]])"
      ]
     },
     "execution_count": 19,
     "metadata": {},
     "output_type": "execute_result"
    }
   ],
   "source": [
    "#pense no caso da matriz identidade... as colunas são vetores ortogonais, assim a inversa é a tranposta que é ela mesma!\n",
    "#Teste\n"
   ]
  },
  {
   "cell_type": "code",
   "execution_count": null,
   "metadata": {},
   "outputs": [],
   "source": []
  }
 ],
 "metadata": {
  "kernelspec": {
   "display_name": "Python 3",
   "language": "python",
   "name": "python3"
  },
  "language_info": {
   "codemirror_mode": {
    "name": "ipython",
    "version": 3
   },
   "file_extension": ".py",
   "mimetype": "text/x-python",
   "name": "python",
   "nbconvert_exporter": "python",
   "pygments_lexer": "ipython3",
   "version": "3.8.3"
  }
 },
 "nbformat": 4,
 "nbformat_minor": 4
}
