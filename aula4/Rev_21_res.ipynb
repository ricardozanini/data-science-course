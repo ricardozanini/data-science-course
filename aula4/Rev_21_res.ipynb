{
 "cells": [
  {
   "cell_type": "markdown",
   "metadata": {},
   "source": [
    "Determinantes"
   ]
  },
  {
   "cell_type": "code",
   "execution_count": 1,
   "metadata": {},
   "outputs": [],
   "source": [
    "import numpy as np"
   ]
  },
  {
   "cell_type": "code",
   "execution_count": 2,
   "metadata": {},
   "outputs": [
    {
     "data": {
      "text/plain": [
       "(-2, -2.0000000000000004)"
      ]
     },
     "execution_count": 2,
     "metadata": {},
     "output_type": "execute_result"
    }
   ],
   "source": [
    "#calcule o determinante de A pela definição e usando numpy\n",
    "A=np.array([[1,2],[3,4]])\n",
    "A[0,0]*A[1,1]-A[0,1]*A[1,0],np.linalg.det(A)"
   ]
  },
  {
   "cell_type": "code",
   "execution_count": 4,
   "metadata": {},
   "outputs": [
    {
     "data": {
      "text/plain": [
       "(array([[1., 5., 3.],\n",
       "        [0., 2., 6.],\n",
       "        [2., 8., 0.]]),\n",
       " 0.0)"
      ]
     },
     "execution_count": 4,
     "metadata": {},
     "output_type": "execute_result"
    }
   ],
   "source": [
    "#Monte uma matriz 3x3 em que uma linha é combinação linear das outras duas..mostre que det é zero\n",
    "A=np.zeros((3,3))\n",
    "A[0,:]=[1,5,3]\n",
    "A[1,:]=[0,2,6]\n",
    "A[2,:]=2*A[0,:]-A[1,:]\n",
    "A,np.linalg.det(A)"
   ]
  },
  {
   "cell_type": "code",
   "execution_count": 6,
   "metadata": {},
   "outputs": [
    {
     "data": {
      "text/plain": [
       "(1.0, 1.0)"
      ]
     },
     "execution_count": 6,
     "metadata": {},
     "output_type": "execute_result"
    }
   ],
   "source": [
    "#Qual é o determinante da Matriz Identidade? teste\n",
    "np.linalg.det(np.identity(4)),np.linalg.det(np.identity(3))"
   ]
  },
  {
   "cell_type": "code",
   "execution_count": 7,
   "metadata": {},
   "outputs": [
    {
     "data": {
      "text/plain": [
       "(-2.0000000000000004, -2.0)"
      ]
     },
     "execution_count": 7,
     "metadata": {},
     "output_type": "execute_result"
    }
   ],
   "source": [
    "#Verifique o determinante da transposta é igual ao determinante da matriz original\n",
    "A=np.array([[1,2],[3,4]])\n",
    "np.linalg.det(A),np.linalg.det(A.T)"
   ]
  },
  {
   "cell_type": "code",
   "execution_count": 8,
   "metadata": {},
   "outputs": [
    {
     "data": {
      "text/plain": [
       "(array([[1., 1., 1.],\n",
       "        [0., 0., 0.],\n",
       "        [1., 1., 1.]]),\n",
       " 0.0)"
      ]
     },
     "execution_count": 8,
     "metadata": {},
     "output_type": "execute_result"
    }
   ],
   "source": [
    "#Uma linha (ou coluna) de zeros zera o determinante..é fácil provar..vamos testar\n",
    "A=np.ones((3,3))\n",
    "A[1,:]=[0,0,0]\n",
    "A,np.linalg.det(A)"
   ]
  },
  {
   "cell_type": "code",
   "execution_count": 11,
   "metadata": {},
   "outputs": [
    {
     "data": {
      "text/plain": [
       "(-2.0000000000000004, -6.000000000000003)"
      ]
     },
     "execution_count": 11,
     "metadata": {},
     "output_type": "execute_result"
    }
   ],
   "source": [
    "#Multiplicando uma linha (ou coluna) da matriz nxn por escalar k, o det tb é multiplicado por k\n",
    "A=np.array([[1,2],[3,4]])\n",
    "B=A.copy()\n",
    "B[:,0]=3*B[:,0]\n",
    "np.linalg.det(A),np.linalg.det(B)"
   ]
  },
  {
   "cell_type": "code",
   "execution_count": null,
   "metadata": {},
   "outputs": [],
   "source": []
  }
 ],
 "metadata": {
  "kernelspec": {
   "display_name": "Python 3",
   "language": "python",
   "name": "python3"
  },
  "language_info": {
   "codemirror_mode": {
    "name": "ipython",
    "version": 3
   },
   "file_extension": ".py",
   "mimetype": "text/x-python",
   "name": "python",
   "nbconvert_exporter": "python",
   "pygments_lexer": "ipython3",
   "version": "3.7.6"
  }
 },
 "nbformat": 4,
 "nbformat_minor": 4
}
