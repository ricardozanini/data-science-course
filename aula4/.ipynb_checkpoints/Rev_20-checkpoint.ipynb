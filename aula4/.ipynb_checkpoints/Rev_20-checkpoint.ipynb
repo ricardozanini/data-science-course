{
 "cells": [
  {
   "cell_type": "markdown",
   "metadata": {},
   "source": [
    "Aquecimento Matrizes"
   ]
  },
  {
   "cell_type": "code",
   "execution_count": 1,
   "metadata": {},
   "outputs": [],
   "source": [
    "import numpy as np\n",
    "import random\n"
   ]
  },
  {
   "cell_type": "code",
   "execution_count": 3,
   "metadata": {},
   "outputs": [
    {
     "data": {
      "text/plain": [
       "(array([[ 9.999e-01,  0.000e+00],\n",
       "        [-1.000e-06,  1.000e+00]]),\n",
       " array([[1.00010201, 2.        ],\n",
       "        [3.00030003, 0.        ]]))"
      ]
     },
     "execution_count": 3,
     "metadata": {},
     "output_type": "execute_result"
    }
   ],
   "source": [
    "#Mostre que a matriz [[ 0.,0.3333], [ 0.5       , -0.166667]] é a inversa de [[1,2],[3,0]] sem usar .inv\n",
    "A=np.array( [[ 0.,0.3333], [ 0.5 , -0.166667]])\n",
    "B=np.array(  [[1,2],[3,0]] )\n",
    "np.dot(A,B),np.linalg.inv(A)"
   ]
  },
  {
   "cell_type": "code",
   "execution_count": 7,
   "metadata": {},
   "outputs": [
    {
     "data": {
      "text/plain": [
       "True"
      ]
     },
     "execution_count": 7,
     "metadata": {},
     "output_type": "execute_result"
    }
   ],
   "source": [
    "#Como posso saber se uma matriz é simétrica A(i,j)=A(j,i) usando a transposta?\n",
    "A=np.array(  [[1,2,3],[2,1,4],[3,4,1]] )\n",
    "# é simétrica porque a transposta é igual a ela mesma\n",
    "np.array_equal(A.T, A)\n",
    "\n"
   ]
  },
  {
   "cell_type": "code",
   "execution_count": 10,
   "metadata": {},
   "outputs": [
    {
     "name": "stdout",
     "output_type": "stream",
     "text": [
      "[[0.55658272 0.13118493 0.63807912 0.89134166]\n",
      " [0.95869996 0.66478156 0.14133898 0.32483288]\n",
      " [0.65618417 0.55816314 0.84932903 0.81179067]\n",
      " [0.24328338 0.52545263 0.70475632 0.1514179 ]]\n",
      "0.55658271988589\n",
      "0.6647815575913865\n",
      "0.849329029605716\n",
      "0.15141790401936306\n"
     ]
    }
   ],
   "source": [
    "#Obtenha a diagonal principal da matriz A abaixo\n",
    "A=np.random.random((4,4))\n",
    "print(A)\n",
    "for i in range(len(A)):\n",
    "    print(A[i,i])\n"
   ]
  },
  {
   "cell_type": "code",
   "execution_count": 17,
   "metadata": {},
   "outputs": [
    {
     "name": "stdout",
     "output_type": "stream",
     "text": [
      "[[ 1  1  0]\n",
      " [ 2  1  1]\n",
      " [ 3  1 -1]]\n",
      "[10 17 18]\n"
     ]
    },
    {
     "data": {
      "text/plain": [
       "array([5., 5., 2.])"
      ]
     },
     "execution_count": 17,
     "metadata": {},
     "output_type": "execute_result"
    }
   ],
   "source": [
    "#Resolva matricialmente o sistema de equações lineares\n",
    "#x+y=10\n",
    "#2x+y+z=17\n",
    "#3x+y-z=18\n",
    "A=np.array([[1,1,0],[2,1,1],[3,1,-1]])\n",
    "B=np.array([10,17,18])\n",
    "print(A)\n",
    "print(B)\n",
    "INV=np.linalg.inv(A)\n",
    "np.dot(INV,B)\n",
    "\n",
    "\n",
    "        "
   ]
  },
  {
   "cell_type": "code",
   "execution_count": null,
   "metadata": {},
   "outputs": [],
   "source": []
  }
 ],
 "metadata": {
  "kernelspec": {
   "display_name": "Python 3",
   "language": "python",
   "name": "python3"
  },
  "language_info": {
   "codemirror_mode": {
    "name": "ipython",
    "version": 3
   },
   "file_extension": ".py",
   "mimetype": "text/x-python",
   "name": "python",
   "nbconvert_exporter": "python",
   "pygments_lexer": "ipython3",
   "version": "3.8.3"
  }
 },
 "nbformat": 4,
 "nbformat_minor": 4
}
