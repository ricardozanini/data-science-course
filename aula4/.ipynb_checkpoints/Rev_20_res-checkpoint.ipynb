{
 "cells": [
  {
   "cell_type": "markdown",
   "metadata": {},
   "source": [
    "Aquecimento Matrizes"
   ]
  },
  {
   "cell_type": "code",
   "execution_count": 12,
   "metadata": {},
   "outputs": [],
   "source": [
    "import numpy as np\n",
    "import random\n"
   ]
  },
  {
   "cell_type": "code",
   "execution_count": 6,
   "metadata": {},
   "outputs": [
    {
     "data": {
      "text/plain": [
       "array([[ 9.999e-01,  0.000e+00],\n",
       "       [-1.000e-06,  1.000e+00]])"
      ]
     },
     "execution_count": 6,
     "metadata": {},
     "output_type": "execute_result"
    }
   ],
   "source": [
    "#Mostre que a matriz [[ 0.,0.3333], [ 0.5       , -0.166667]] é a inversa de [[1,2],[3,0]] sem usar .inv\n",
    "A=np.array( [[ 0.,0.3333], [ 0.5 , -0.166667]])\n",
    "B=np.array(  [[1,2],[3,0]] )\n",
    "np.dot(A,B)"
   ]
  },
  {
   "cell_type": "code",
   "execution_count": 11,
   "metadata": {},
   "outputs": [
    {
     "data": {
      "text/plain": [
       "True"
      ]
     },
     "execution_count": 11,
     "metadata": {},
     "output_type": "execute_result"
    }
   ],
   "source": [
    "#Como posso saber se uma matriz é simétrica A(i,j)=A(j,i) usando a transposta?\n",
    "A=np.array(  [[1,2,3],[2,1,4],[3,4,1]] )\n",
    "np.array_equal(A,A.T)"
   ]
  },
  {
   "cell_type": "code",
   "execution_count": 15,
   "metadata": {},
   "outputs": [
    {
     "name": "stdout",
     "output_type": "stream",
     "text": [
      "[[0.54496246 0.11187465 0.90175209 0.80776987]\n",
      " [0.98629517 0.85594308 0.02672432 0.80790032]\n",
      " [0.13516139 0.34712216 0.39214864 0.35225765]\n",
      " [0.11126601 0.82537343 0.61058556 0.13590854]]\n",
      "0.5449624618305013\n",
      "0.8559430807076984\n",
      "0.3921486406956948\n",
      "0.13590853522196145\n"
     ]
    }
   ],
   "source": [
    "#Obtenha a diagonal principal da matriz A abaixo\n",
    "A=np.random.random((4,4))\n",
    "print(A)\n",
    "for i in range(len(A)):\n",
    "    print(A[i,i])"
   ]
  },
  {
   "cell_type": "code",
   "execution_count": 25,
   "metadata": {},
   "outputs": [
    {
     "data": {
      "text/plain": [
       "array([5., 5., 2.])"
      ]
     },
     "execution_count": 25,
     "metadata": {},
     "output_type": "execute_result"
    }
   ],
   "source": [
    "#Resolva matricialmente o sistema de equações lineares\n",
    "#x+y=10\n",
    "#2x+y+z=17\n",
    "#3x+y-z=18\n",
    "\n",
    "A=np.array([[1,1,0],[2,1,1],[3,1,-1]])\n",
    "y=np.array([10,17,18])\n",
    "np.dot(np.linalg.inv(A),y)            "
   ]
  },
  {
   "cell_type": "code",
   "execution_count": null,
   "metadata": {},
   "outputs": [],
   "source": []
  }
 ],
 "metadata": {
  "kernelspec": {
   "display_name": "Python 3",
   "language": "python",
   "name": "python3"
  },
  "language_info": {
   "codemirror_mode": {
    "name": "ipython",
    "version": 3
   },
   "file_extension": ".py",
   "mimetype": "text/x-python",
   "name": "python",
   "nbconvert_exporter": "python",
   "pygments_lexer": "ipython3",
   "version": "3.8.3"
  }
 },
 "nbformat": 4,
 "nbformat_minor": 4
}
