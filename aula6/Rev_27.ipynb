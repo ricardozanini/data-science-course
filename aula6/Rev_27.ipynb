{
 "cells": [
  {
   "cell_type": "markdown",
   "metadata": {},
   "source": [
    "Probabilidade"
   ]
  },
  {
   "cell_type": "code",
   "execution_count": 1,
   "metadata": {},
   "outputs": [],
   "source": [
    "import random\n",
    "import math\n",
    "import itertools"
   ]
  },
  {
   "cell_type": "code",
   "execution_count": 1,
   "metadata": {
    "collapsed": true
   },
   "outputs": [
    {
     "data": {
      "text/plain": [
       "0.16666666666666666"
      ]
     },
     "execution_count": 1,
     "metadata": {},
     "output_type": "execute_result"
    }
   ],
   "source": [
    "#Qual é a probabilidade de tirar 5 em uma jogada de um dado...\n"
   ]
  },
  {
   "cell_type": "code",
   "execution_count": 8,
   "metadata": {
    "collapsed": true
   },
   "outputs": [
    {
     "data": {
      "text/plain": [
       "0.166101"
      ]
     },
     "execution_count": 8,
     "metadata": {},
     "output_type": "execute_result"
    }
   ],
   "source": [
    "#Refaça esse cálculo por números randômicos (Monte Carlo)\n",
    "\n",
    "\n",
    "    "
   ]
  },
  {
   "cell_type": "code",
   "execution_count": 10,
   "metadata": {
    "collapsed": true
   },
   "outputs": [
    {
     "data": {
      "text/plain": [
       "0.027777777777777776"
      ]
     },
     "execution_count": 10,
     "metadata": {},
     "output_type": "execute_result"
    }
   ],
   "source": [
    "#Qual a probabilidade de lançar dois dados e obter 6, nas duas vezes? Eventos independentes: Produto das probabilidades\n"
   ]
  },
  {
   "cell_type": "code",
   "execution_count": 11,
   "metadata": {
    "collapsed": true
   },
   "outputs": [
    {
     "data": {
      "text/plain": [
       "0.027941"
      ]
     },
     "execution_count": 11,
     "metadata": {},
     "output_type": "execute_result"
    }
   ],
   "source": [
    "#Refaça esse cálculo por números randômicos (Monte Carlo)\n",
    "\n"
   ]
  },
  {
   "cell_type": "code",
   "execution_count": 20,
   "metadata": {
    "collapsed": true
   },
   "outputs": [
    {
     "data": {
      "text/plain": [
       "10.0"
      ]
     },
     "execution_count": 20,
     "metadata": {},
     "output_type": "execute_result"
    }
   ],
   "source": [
    "#De quantas maneiras consigo combinar 3 letras de A,B ,C,D,E? \n",
    "\n"
   ]
  },
  {
   "cell_type": "code",
   "execution_count": 33,
   "metadata": {
    "collapsed": true
   },
   "outputs": [
    {
     "name": "stdout",
     "output_type": "stream",
     "text": [
      "('A', 'B', 'C')\n",
      "('A', 'B', 'D')\n",
      "('A', 'B', 'E')\n",
      "('A', 'C', 'D')\n",
      "('A', 'C', 'E')\n",
      "('A', 'D', 'E')\n",
      "('B', 'C', 'D')\n",
      "('B', 'C', 'E')\n",
      "('B', 'D', 'E')\n",
      "('C', 'D', 'E')\n"
     ]
    }
   ],
   "source": [
    "#Refaça usando combinations do itertools\n",
    "\n"
   ]
  },
  {
   "cell_type": "code",
   "execution_count": 32,
   "metadata": {
    "collapsed": true
   },
   "outputs": [
    {
     "name": "stdout",
     "output_type": "stream",
     "text": [
      "('A', 'B', 'C')\n",
      "('A', 'B', 'D')\n",
      "('A', 'B', 'E')\n",
      "('A', 'C', 'B')\n",
      "('A', 'C', 'D')\n",
      "('A', 'C', 'E')\n",
      "('A', 'D', 'B')\n",
      "('A', 'D', 'C')\n",
      "('A', 'D', 'E')\n",
      "('A', 'E', 'B')\n",
      "('A', 'E', 'C')\n",
      "('A', 'E', 'D')\n",
      "('B', 'A', 'C')\n",
      "('B', 'A', 'D')\n",
      "('B', 'A', 'E')\n",
      "('B', 'C', 'A')\n",
      "('B', 'C', 'D')\n",
      "('B', 'C', 'E')\n",
      "('B', 'D', 'A')\n",
      "('B', 'D', 'C')\n",
      "('B', 'D', 'E')\n",
      "('B', 'E', 'A')\n",
      "('B', 'E', 'C')\n",
      "('B', 'E', 'D')\n",
      "('C', 'A', 'B')\n",
      "('C', 'A', 'D')\n",
      "('C', 'A', 'E')\n",
      "('C', 'B', 'A')\n",
      "('C', 'B', 'D')\n",
      "('C', 'B', 'E')\n",
      "('C', 'D', 'A')\n",
      "('C', 'D', 'B')\n",
      "('C', 'D', 'E')\n",
      "('C', 'E', 'A')\n",
      "('C', 'E', 'B')\n",
      "('C', 'E', 'D')\n",
      "('D', 'A', 'B')\n",
      "('D', 'A', 'C')\n",
      "('D', 'A', 'E')\n",
      "('D', 'B', 'A')\n",
      "('D', 'B', 'C')\n",
      "('D', 'B', 'E')\n",
      "('D', 'C', 'A')\n",
      "('D', 'C', 'B')\n",
      "('D', 'C', 'E')\n",
      "('D', 'E', 'A')\n",
      "('D', 'E', 'B')\n",
      "('D', 'E', 'C')\n",
      "('E', 'A', 'B')\n",
      "('E', 'A', 'C')\n",
      "('E', 'A', 'D')\n",
      "('E', 'B', 'A')\n",
      "('E', 'B', 'C')\n",
      "('E', 'B', 'D')\n",
      "('E', 'C', 'A')\n",
      "('E', 'C', 'B')\n",
      "('E', 'C', 'D')\n",
      "('E', 'D', 'A')\n",
      "('E', 'D', 'B')\n",
      "('E', 'D', 'C')\n"
     ]
    },
    {
     "data": {
      "text/plain": [
       "60"
      ]
     },
     "execution_count": 32,
     "metadata": {},
     "output_type": "execute_result"
    }
   ],
   "source": [
    "comb=itertools.permutations(['A','B','C','D','E'],3)\n"
   ]
  }
 ],
 "metadata": {
  "kernelspec": {
   "display_name": "Python 3",
   "language": "python",
   "name": "python3"
  },
  "language_info": {
   "codemirror_mode": {
    "name": "ipython",
    "version": 3
   },
   "file_extension": ".py",
   "mimetype": "text/x-python",
   "name": "python",
   "nbconvert_exporter": "python",
   "pygments_lexer": "ipython3",
   "version": "3.8.3"
  }
 },
 "nbformat": 4,
 "nbformat_minor": 4
}
