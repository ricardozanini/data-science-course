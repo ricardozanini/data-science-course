{
 "cells": [
  {
   "cell_type": "markdown",
   "metadata": {},
   "source": [
    "Distribuição Normal"
   ]
  },
  {
   "cell_type": "code",
   "execution_count": 3,
   "metadata": {},
   "outputs": [],
   "source": [
    "import random\n",
    "import math\n",
    "import matplotlib.pyplot as plt\n"
   ]
  },
  {
   "cell_type": "code",
   "execution_count": 24,
   "metadata": {},
   "outputs": [
    {
     "data": {
      "image/png": "[encoded data removed]",
      "text/plain": [
       "<Figure size 432x288 with 1 Axes>"
      ]
     },
     "metadata": {
      "needs_background": "light"
     },
     "output_type": "display_data"
    }
   ],
   "source": [
    "#Faça o Gráfico da Distribuição Normal Standard\n",
    "#f(z)=(1/math.sqrt(1*math.pi))*math.exp(-0.5*z**2)\n",
    "def g(z):\n",
    "    return (1/math.sqrt(2*math.pi))*math.exp(-0.5*z**2)\n",
    "for i in range(-300,301):\n",
    "    x=i/100\n",
    "    plt.plot(x,g(x),'bo')\n",
    "plt.show()    "
   ]
  },
  {
   "cell_type": "code",
   "execution_count": 32,
   "metadata": {},
   "outputs": [
    {
     "data": {
      "text/plain": [
       "0.840132876016521"
      ]
     },
     "execution_count": 32,
     "metadata": {},
     "output_type": "execute_result"
    }
   ],
   "source": [
    "# Qual a prob de z<=1 na Normal Standard? Faça a integral por área...\n",
    "a=0.0\n",
    "dx=0.01\n",
    "quant=int(11/dx)\n",
    "for i in range(quant):\n",
    "    x=-10+i*dx\n",
    "    a+=dx*g(x)\n",
    "a"
   ]
  },
  {
   "cell_type": "code",
   "execution_count": 33,
   "metadata": {},
   "outputs": [
    {
     "data": {
      "text/plain": [
       "0.6826854592782341"
      ]
     },
     "execution_count": 33,
     "metadata": {},
     "output_type": "execute_result"
    }
   ],
   "source": [
    "# Qual a prob de entre -1 e +1 na Normal Standard? Faça a integral por área...\n",
    "a=0.0\n",
    "dx=0.01\n",
    "quant=int(2/dx)\n",
    "for i in range(quant):\n",
    "    x=-1+i*dx\n",
    "    a+=dx*g(x)\n",
    "a"
   ]
  },
  {
   "cell_type": "code",
   "execution_count": 34,
   "metadata": {},
   "outputs": [
    {
     "data": {
      "text/plain": [
       "0.5155549770161586"
      ]
     },
     "execution_count": 34,
     "metadata": {},
     "output_type": "execute_result"
    }
   ],
   "source": [
    "#Com random, podemos gerar números com distribuição normal...exemplo()\n",
    "random.gauss(0,1)"
   ]
  },
  {
   "cell_type": "code",
   "execution_count": 57,
   "metadata": {},
   "outputs": [
    {
     "data": {
      "text/plain": [
       "0.000561"
      ]
     },
     "execution_count": 57,
     "metadata": {},
     "output_type": "execute_result"
    }
   ],
   "source": [
    "#Qual é a probabilidade de uma distribuição normal com média 50 e dp=2 gerar uma amostra de tamanho 25 com média=51.3\n",
    "cont=0\n",
    "for i in range(1000000):\n",
    "    if sum([random.gauss(50,2) for i in range(25)])/25>51.3:cont+=1\n",
    "cont/1000000      "
   ]
  },
  {
   "cell_type": "code",
   "execution_count": null,
   "metadata": {},
   "outputs": [],
   "source": []
  }
 ],
 "metadata": {
  "kernelspec": {
   "display_name": "Python 3",
   "language": "python",
   "name": "python3"
  },
  "language_info": {
   "codemirror_mode": {
    "name": "ipython",
    "version": 3
   },
   "file_extension": ".py",
   "mimetype": "text/x-python",
   "name": "python",
   "nbconvert_exporter": "python",
   "pygments_lexer": "ipython3",
   "version": "3.7.6"
  }
 },
 "nbformat": 4,
 "nbformat_minor": 4
}
